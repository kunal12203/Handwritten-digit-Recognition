{
 "cells": [
  {
   "cell_type": "code",
   "execution_count": 3,
   "id": "24906cf0-fc36-4fe9-ac40-4235bf8b32eb",
   "metadata": {},
   "outputs": [],
   "source": [
    "import numpy as np\n",
    "import matplotlib.pyplot as plt\n",
    "\n",
    "import keras\n",
    "\n",
    "from keras.datasets import mnist\n",
    "\n",
    "from keras.models import Sequential\n",
    "from keras.layers import Dense, Flatten\n",
    "\n"
   ]
  },
  {
   "cell_type": "code",
   "execution_count": 4,
   "id": "2e7829d8-f84c-4120-a06a-dee76aeb438e",
   "metadata": {},
   "outputs": [
    {
     "data": {
      "text/plain": [
       "((60000, 28, 28), (60000,), (10000, 28, 28), (10000,))"
      ]
     },
     "execution_count": 4,
     "metadata": {},
     "output_type": "execute_result"
    }
   ],
   "source": [
    "(X_train, y_train),(X_test, y_test)=mnist.load_data()\n",
    "\n",
    "X_train.shape, y_train.shape, X_test.shape,y_test.shape\n"
   ]
  },
  {
   "cell_type": "code",
   "execution_count": 5,
   "id": "e3c9ddac-d86d-4b01-bb98-3983ab8b241a",
   "metadata": {},
   "outputs": [],
   "source": [
    "#preprocess the images\n",
    "\n",
    "#normalising the image to [0,1] range\n",
    "X_train= X_train.astype(np.float32)/255\n",
    "X_test= X_test.astype(np.float32)/255\n",
    "\n",
    "#expanding /resphape the dimension of images to (28, 28,1)\n",
    "\n",
    "\n",
    "#convert classes to one hot verctor\n",
    "#y_train = keras.utils.to_categorical(y_train)\n",
    "#y_test = keras.utils.to_categorical(y_test)\n",
    "\n",
    "\n",
    "\n"
   ]
  },
  {
   "cell_type": "code",
   "execution_count": 6,
   "id": "d3488e2f-1675-4ef9-93ea-60dcf636284e",
   "metadata": {},
   "outputs": [],
   "source": [
    "model= Sequential()\n",
    "\n",
    "\n",
    "model.add(Flatten(input_shape=(28,28)))\n",
    "model.add(Dense(128, activation=\"relu\"))\n",
    "model.add(Dense(32,activation='relu'))\n",
    "model.add(Dense(10, activation='softmax'))\n",
    "\n"
   ]
  },
  {
   "cell_type": "code",
   "execution_count": 7,
   "id": "de0144ed-1ccf-4d74-9541-4afd6570a5b7",
   "metadata": {},
   "outputs": [],
   "source": [
    "model.compile( loss = 'sparse_categorical_crossentropy' ,optimizer ='Adam', metrics=['accuracy'])"
   ]
  },
  {
   "cell_type": "code",
   "execution_count": 8,
   "id": "eb499c22",
   "metadata": {},
   "outputs": [
    {
     "name": "stdout",
     "output_type": "stream",
     "text": [
      "Epoch 1/25\n",
      "1500/1500 [==============================] - 3s 2ms/step - loss: 0.2893 - accuracy: 0.9168 - val_loss: 0.1427 - val_accuracy: 0.9582\n",
      "Epoch 2/25\n",
      "1500/1500 [==============================] - 2s 1ms/step - loss: 0.1224 - accuracy: 0.9640 - val_loss: 0.1144 - val_accuracy: 0.9662\n",
      "Epoch 3/25\n",
      "1500/1500 [==============================] - 2s 1ms/step - loss: 0.0842 - accuracy: 0.9747 - val_loss: 0.1067 - val_accuracy: 0.9686\n",
      "Epoch 4/25\n",
      "1500/1500 [==============================] - 2s 1ms/step - loss: 0.0617 - accuracy: 0.9807 - val_loss: 0.0958 - val_accuracy: 0.9724\n",
      "Epoch 5/25\n",
      "1500/1500 [==============================] - 2s 1ms/step - loss: 0.0480 - accuracy: 0.9847 - val_loss: 0.1028 - val_accuracy: 0.9730\n",
      "Epoch 6/25\n",
      "1500/1500 [==============================] - 2s 1ms/step - loss: 0.0382 - accuracy: 0.9873 - val_loss: 0.1066 - val_accuracy: 0.9722\n",
      "Epoch 7/25\n",
      "1500/1500 [==============================] - 2s 1ms/step - loss: 0.0309 - accuracy: 0.9898 - val_loss: 0.1033 - val_accuracy: 0.9735\n",
      "Epoch 8/25\n",
      "1500/1500 [==============================] - 2s 1ms/step - loss: 0.0269 - accuracy: 0.9909 - val_loss: 0.0974 - val_accuracy: 0.9767\n",
      "Epoch 9/25\n",
      "1500/1500 [==============================] - 2s 1ms/step - loss: 0.0229 - accuracy: 0.9921 - val_loss: 0.1077 - val_accuracy: 0.9747\n",
      "Epoch 10/25\n",
      "1500/1500 [==============================] - 2s 1ms/step - loss: 0.0190 - accuracy: 0.9937 - val_loss: 0.1094 - val_accuracy: 0.9737\n",
      "Epoch 11/25\n",
      "1500/1500 [==============================] - 2s 1ms/step - loss: 0.0176 - accuracy: 0.9939 - val_loss: 0.1118 - val_accuracy: 0.9768\n",
      "Epoch 12/25\n",
      "1500/1500 [==============================] - 2s 1ms/step - loss: 0.0162 - accuracy: 0.9949 - val_loss: 0.1306 - val_accuracy: 0.9715\n",
      "Epoch 13/25\n",
      "1500/1500 [==============================] - 2s 1ms/step - loss: 0.0154 - accuracy: 0.9946 - val_loss: 0.1266 - val_accuracy: 0.9737\n",
      "Epoch 14/25\n",
      "1500/1500 [==============================] - 2s 1ms/step - loss: 0.0110 - accuracy: 0.9965 - val_loss: 0.1213 - val_accuracy: 0.9772\n",
      "Epoch 15/25\n",
      "1500/1500 [==============================] - 2s 1ms/step - loss: 0.0128 - accuracy: 0.9958 - val_loss: 0.1310 - val_accuracy: 0.9748\n",
      "Epoch 16/25\n",
      "1500/1500 [==============================] - 2s 1ms/step - loss: 0.0111 - accuracy: 0.9962 - val_loss: 0.1254 - val_accuracy: 0.9758\n",
      "Epoch 17/25\n",
      "1500/1500 [==============================] - 2s 1ms/step - loss: 0.0108 - accuracy: 0.9961 - val_loss: 0.1235 - val_accuracy: 0.9757\n",
      "Epoch 18/25\n",
      "1500/1500 [==============================] - 2s 1ms/step - loss: 0.0090 - accuracy: 0.9968 - val_loss: 0.1365 - val_accuracy: 0.9753\n",
      "Epoch 19/25\n",
      "1500/1500 [==============================] - 2s 1ms/step - loss: 0.0100 - accuracy: 0.9968 - val_loss: 0.1390 - val_accuracy: 0.9742\n",
      "Epoch 20/25\n",
      "1500/1500 [==============================] - 2s 1ms/step - loss: 0.0085 - accuracy: 0.9972 - val_loss: 0.1256 - val_accuracy: 0.9779\n",
      "Epoch 21/25\n",
      "1500/1500 [==============================] - 2s 1ms/step - loss: 0.0091 - accuracy: 0.9971 - val_loss: 0.1603 - val_accuracy: 0.9729\n",
      "Epoch 22/25\n",
      "1500/1500 [==============================] - 2s 1ms/step - loss: 0.0094 - accuracy: 0.9970 - val_loss: 0.1700 - val_accuracy: 0.9721\n",
      "Epoch 23/25\n",
      "1500/1500 [==============================] - 2s 1ms/step - loss: 0.0079 - accuracy: 0.9973 - val_loss: 0.1525 - val_accuracy: 0.9743\n",
      "Epoch 24/25\n",
      "1500/1500 [==============================] - 2s 1ms/step - loss: 0.0083 - accuracy: 0.9972 - val_loss: 0.1519 - val_accuracy: 0.9736\n",
      "Epoch 25/25\n",
      "1500/1500 [==============================] - 2s 1ms/step - loss: 0.0092 - accuracy: 0.9970 - val_loss: 0.1575 - val_accuracy: 0.9759\n"
     ]
    }
   ],
   "source": [
    "history=model.fit(X_train,y_train,epochs=25,validation_split=0.2)"
   ]
  },
  {
   "cell_type": "code",
   "execution_count": 9,
   "id": "90f810a1",
   "metadata": {},
   "outputs": [
    {
     "name": "stdout",
     "output_type": "stream",
     "text": [
      "313/313 [==============================] - 0s 695us/step\n"
     ]
    }
   ],
   "source": [
    "y_prob=model.predict(X_test)"
   ]
  },
  {
   "cell_type": "code",
   "execution_count": 10,
   "id": "ebeccd23",
   "metadata": {},
   "outputs": [],
   "source": [
    "\n",
    "y_pred=y_prob.argmax(axis=1)"
   ]
  },
  {
   "cell_type": "code",
   "execution_count": 11,
   "id": "3d9cc87f",
   "metadata": {},
   "outputs": [
    {
     "data": {
      "text/plain": [
       "0.9785"
      ]
     },
     "execution_count": 11,
     "metadata": {},
     "output_type": "execute_result"
    }
   ],
   "source": [
    "from sklearn.metrics import accuracy_score\n",
    "accuracy_score(y_test,y_pred)"
   ]
  },
  {
   "cell_type": "code",
   "execution_count": 12,
   "id": "a296a66f",
   "metadata": {},
   "outputs": [
    {
     "name": "stdout",
     "output_type": "stream",
     "text": [
      "1/1 [==============================] - 0s 44ms/step\n"
     ]
    },
    {
     "data": {
      "text/plain": [
       "array([6], dtype=int64)"
      ]
     },
     "execution_count": 12,
     "metadata": {},
     "output_type": "execute_result"
    },
    {
     "data": {
      "image/png": "[encoded data removed]",
      "text/plain": [
       "<Figure size 640x480 with 1 Axes>"
      ]
     },
     "metadata": {},
     "output_type": "display_data"
    }
   ],
   "source": [
    "plt.imshow(X_test[100])\n",
    "\n",
    "model.predict(X_test[100].reshape(1,28,28)).argmax(axis=1)"
   ]
  },
  {
   "cell_type": "code",
   "execution_count": 16,
   "id": "eac815d6",
   "metadata": {},
   "outputs": [
    {
     "name": "stdout",
     "output_type": "stream",
     "text": [
      "1/1 [==============================] - 0s 32ms/step\n",
      "[3]\n"
     ]
    },
    {
     "data": {
      "image/png": "[encoded data removed]",
      "text/plain": [
       "<Figure size 640x480 with 1 Axes>"
      ]
     },
     "metadata": {},
     "output_type": "display_data"
    }
   ],
   "source": [
    "plt.imshow(X_test[90])\n",
    "\n",
    "model.predict(X_test[90].reshape(1,28,28)).argmax(axis=1)"
   ]
  }
 ],
 "metadata": {
  "kernelspec": {
   "display_name": "Python 3 (ipykernel)",
   "language": "python",
   "name": "python3"
  },
  "language_info": {
   "codemirror_mode": {
    "name": "ipython",
    "version": 3
   },
   "file_extension": ".py",
   "mimetype": "text/x-python",
   "name": "python",
   "nbconvert_exporter": "python",
   "pygments_lexer": "ipython3",
   "version": "3.11.4"
  }
 },
 "nbformat": 4,
 "nbformat_minor": 5
}
